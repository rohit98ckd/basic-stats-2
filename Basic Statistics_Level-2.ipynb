{
 "cells": [
  {
   "cell_type": "markdown",
   "id": "6d0b3902",
   "metadata": {},
   "source": [
    "# Assignment_2 file_1"
   ]
  },
  {
   "cell_type": "code",
   "execution_count": 2,
   "id": "0c14401d",
   "metadata": {},
   "outputs": [],
   "source": [
    "import pandas as pd\n",
    "import numpy as np\n",
    "import matplotlib.pyplot as plt\n",
    "import seaborn as sns"
   ]
  },
  {
   "cell_type": "markdown",
   "id": "535e520e",
   "metadata": {},
   "source": [
    "### Q.1"
   ]
  },
  {
   "cell_type": "code",
   "execution_count": 3,
   "id": "8353a3ce",
   "metadata": {},
   "outputs": [],
   "source": [
    "data=pd.DataFrame(\n",
    "    {\n",
    "    \"Name of company\" :['Allied Signal','Bankers Trust','General Mills','ITT Industries','J.P.Morgan & Co.','Lehman Brothers','Marriott','MCI','Merrill Lynch','Microsoft','Morgan Stanley','Sun Microsystems','Travelers','US Airways','Warner-Lambert'],\n",
    "        \n",
    "    \"Measure_x\": [24.23,25.53,25.41,24.14,29.62,28.25,25.81,24.39,40.26,32.95,91.36,25.99,39.42,26.71,35.00]\n",
    "\n",
    "    })\n",
    "\n"
   ]
  },
  {
   "cell_type": "code",
   "execution_count": 4,
   "id": "9099e5c4",
   "metadata": {},
   "outputs": [
    {
     "data": {
      "text/html": [
       "<div>\n",
       "<style scoped>\n",
       "    .dataframe tbody tr th:only-of-type {\n",
       "        vertical-align: middle;\n",
       "    }\n",
       "\n",
       "    .dataframe tbody tr th {\n",
       "        vertical-align: top;\n",
       "    }\n",
       "\n",
       "    .dataframe thead th {\n",
       "        text-align: right;\n",
       "    }\n",
       "</style>\n",
       "<table border=\"1\" class=\"dataframe\">\n",
       "  <thead>\n",
       "    <tr style=\"text-align: right;\">\n",
       "      <th></th>\n",
       "      <th>Name of company</th>\n",
       "      <th>Measure_x</th>\n",
       "    </tr>\n",
       "  </thead>\n",
       "  <tbody>\n",
       "    <tr>\n",
       "      <th>0</th>\n",
       "      <td>Allied Signal</td>\n",
       "      <td>24.23</td>\n",
       "    </tr>\n",
       "    <tr>\n",
       "      <th>1</th>\n",
       "      <td>Bankers Trust</td>\n",
       "      <td>25.53</td>\n",
       "    </tr>\n",
       "    <tr>\n",
       "      <th>2</th>\n",
       "      <td>General Mills</td>\n",
       "      <td>25.41</td>\n",
       "    </tr>\n",
       "    <tr>\n",
       "      <th>3</th>\n",
       "      <td>ITT Industries</td>\n",
       "      <td>24.14</td>\n",
       "    </tr>\n",
       "    <tr>\n",
       "      <th>4</th>\n",
       "      <td>J.P.Morgan &amp; Co.</td>\n",
       "      <td>29.62</td>\n",
       "    </tr>\n",
       "    <tr>\n",
       "      <th>5</th>\n",
       "      <td>Lehman Brothers</td>\n",
       "      <td>28.25</td>\n",
       "    </tr>\n",
       "    <tr>\n",
       "      <th>6</th>\n",
       "      <td>Marriott</td>\n",
       "      <td>25.81</td>\n",
       "    </tr>\n",
       "    <tr>\n",
       "      <th>7</th>\n",
       "      <td>MCI</td>\n",
       "      <td>24.39</td>\n",
       "    </tr>\n",
       "    <tr>\n",
       "      <th>8</th>\n",
       "      <td>Merrill Lynch</td>\n",
       "      <td>40.26</td>\n",
       "    </tr>\n",
       "    <tr>\n",
       "      <th>9</th>\n",
       "      <td>Microsoft</td>\n",
       "      <td>32.95</td>\n",
       "    </tr>\n",
       "    <tr>\n",
       "      <th>10</th>\n",
       "      <td>Morgan Stanley</td>\n",
       "      <td>91.36</td>\n",
       "    </tr>\n",
       "    <tr>\n",
       "      <th>11</th>\n",
       "      <td>Sun Microsystems</td>\n",
       "      <td>25.99</td>\n",
       "    </tr>\n",
       "    <tr>\n",
       "      <th>12</th>\n",
       "      <td>Travelers</td>\n",
       "      <td>39.42</td>\n",
       "    </tr>\n",
       "    <tr>\n",
       "      <th>13</th>\n",
       "      <td>US Airways</td>\n",
       "      <td>26.71</td>\n",
       "    </tr>\n",
       "    <tr>\n",
       "      <th>14</th>\n",
       "      <td>Warner-Lambert</td>\n",
       "      <td>35.00</td>\n",
       "    </tr>\n",
       "  </tbody>\n",
       "</table>\n",
       "</div>"
      ],
      "text/plain": [
       "     Name of company  Measure_x\n",
       "0      Allied Signal      24.23\n",
       "1      Bankers Trust      25.53\n",
       "2      General Mills      25.41\n",
       "3     ITT Industries      24.14\n",
       "4   J.P.Morgan & Co.      29.62\n",
       "5    Lehman Brothers      28.25\n",
       "6           Marriott      25.81\n",
       "7                MCI      24.39\n",
       "8      Merrill Lynch      40.26\n",
       "9          Microsoft      32.95\n",
       "10    Morgan Stanley      91.36\n",
       "11  Sun Microsystems      25.99\n",
       "12         Travelers      39.42\n",
       "13        US Airways      26.71\n",
       "14    Warner-Lambert      35.00"
      ]
     },
     "execution_count": 4,
     "metadata": {},
     "output_type": "execute_result"
    }
   ],
   "source": [
    "data"
   ]
  },
  {
   "cell_type": "code",
   "execution_count": 5,
   "id": "9ce5570d",
   "metadata": {},
   "outputs": [
    {
     "data": {
      "image/png": "[encoded data removed]",
      "text/plain": [
       "<Figure size 864x432 with 1 Axes>"
      ]
     },
     "metadata": {},
     "output_type": "display_data"
    }
   ],
   "source": [
    "plt.figure(figsize=(12,6),facecolor='lightblue')\n",
    "plt.boxplot(data['Measure_x'],patch_artist=True, vert= False)\n",
    "plt.show()"
   ]
  },
  {
   "cell_type": "code",
   "execution_count": 6,
   "id": "cb9bf3f8",
   "metadata": {},
   "outputs": [
    {
     "data": {
      "text/plain": [
       "33.27133333333333"
      ]
     },
     "execution_count": 6,
     "metadata": {},
     "output_type": "execute_result"
    }
   ],
   "source": [
    "mean = data['Measure_x'].mean()\n",
    "mean"
   ]
  },
  {
   "cell_type": "code",
   "execution_count": 7,
   "id": "ee54beaa",
   "metadata": {},
   "outputs": [
    {
     "data": {
      "text/plain": [
       "287.1466123809524"
      ]
     },
     "execution_count": 7,
     "metadata": {},
     "output_type": "execute_result"
    }
   ],
   "source": [
    "variance = data['Measure_x'].var()\n",
    "variance"
   ]
  },
  {
   "cell_type": "code",
   "execution_count": 8,
   "id": "8acc6317",
   "metadata": {},
   "outputs": [
    {
     "data": {
      "text/plain": [
       "16.945400921222028"
      ]
     },
     "execution_count": 8,
     "metadata": {},
     "output_type": "execute_result"
    }
   ],
   "source": [
    "standard_diviation = data['Measure_x'].std()\n",
    "standard_diviation"
   ]
  },
  {
   "cell_type": "code",
   "execution_count": 9,
   "id": "673dd308",
   "metadata": {},
   "outputs": [],
   "source": [
    "# Morgan Stanley si outlier of 91.36"
   ]
  },
  {
   "cell_type": "markdown",
   "id": "9418b409",
   "metadata": {},
   "source": [
    "# Assignment_2 file_2"
   ]
  },
  {
   "cell_type": "markdown",
   "id": "a5480be7",
   "metadata": {},
   "source": [
    "### Q.1"
   ]
  },
  {
   "cell_type": "code",
   "execution_count": 10,
   "id": "abbeb492",
   "metadata": {},
   "outputs": [
    {
     "data": {
      "text/plain": [
       "'The time required for servicing transmissions is normally distributed with \\uf06d = 45 minutes and \\uf073 = 8 minutes. \\nThe service manager plans to have work begin on the transmission of a customer’s car 10 minutes after the car is dropped off\\nand the customer is told that the car will be ready within 1 hour from drop-off. What is the probability that the \\nservice manager cannot meet his commitment? '"
      ]
     },
     "execution_count": 10,
     "metadata": {},
     "output_type": "execute_result"
    }
   ],
   "source": [
    "'''The time required for servicing transmissions is normally distributed with  = 45 minutes and  = 8 minutes. \n",
    "The service manager plans to have work begin on the transmission of a customer’s car 10 minutes after the car is dropped off\n",
    "and the customer is told that the car will be ready within 1 hour from drop-off. What is the probability that the \n",
    "service manager cannot meet his commitment? '''\n"
   ]
  },
  {
   "cell_type": "code",
   "execution_count": 11,
   "id": "5d015044",
   "metadata": {},
   "outputs": [
    {
     "data": {
      "text/plain": [
       "'Ho: mu<=50 \\nH1: mu>50 \\n    \\nxbar= 45\\nsigma=8 '"
      ]
     },
     "execution_count": 11,
     "metadata": {},
     "output_type": "execute_result"
    }
   ],
   "source": [
    "'''Ho: mu<=50 \n",
    "H1: mu>50 \n",
    "    \n",
    "xbar= 45\n",
    "sigma=8 '''"
   ]
  },
  {
   "cell_type": "code",
   "execution_count": 12,
   "id": "c9ee15cc",
   "metadata": {},
   "outputs": [
    {
     "data": {
      "text/plain": [
       "0.26598552904870054"
      ]
     },
     "execution_count": 12,
     "metadata": {},
     "output_type": "execute_result"
    }
   ],
   "source": [
    "from scipy import stats\n",
    "\n",
    "(50-45)/8\n",
    "\n",
    "1-stats.norm.cdf(0.625)"
   ]
  },
  {
   "cell_type": "markdown",
   "id": "9c5e05a8",
   "metadata": {},
   "source": [
    "###  Q.2"
   ]
  },
  {
   "cell_type": "code",
   "execution_count": 13,
   "id": "d37176c6",
   "metadata": {},
   "outputs": [],
   "source": [
    "# mu= 38\n",
    "# sigma=6\n",
    "# n= 400\n",
    "\n",
    "# Ho:mu =38 \n",
    "# H1:mu > 44 "
   ]
  },
  {
   "cell_type": "code",
   "execution_count": 14,
   "id": "96538de1",
   "metadata": {},
   "outputs": [
    {
     "data": {
      "text/plain": [
       "1.0"
      ]
     },
     "execution_count": 14,
     "metadata": {},
     "output_type": "execute_result"
    }
   ],
   "source": [
    "(44-38)/(6)"
   ]
  },
  {
   "cell_type": "code",
   "execution_count": 15,
   "id": "cffba887",
   "metadata": {},
   "outputs": [
    {
     "data": {
      "text/plain": [
       "0.8413447460685429"
      ]
     },
     "execution_count": 15,
     "metadata": {},
     "output_type": "execute_result"
    }
   ],
   "source": [
    "stats.norm.cdf(1)"
   ]
  },
  {
   "cell_type": "code",
   "execution_count": 16,
   "id": "20484bda",
   "metadata": {},
   "outputs": [
    {
     "data": {
      "text/plain": [
       "0.15865525393145707"
      ]
     },
     "execution_count": 16,
     "metadata": {},
     "output_type": "execute_result"
    }
   ],
   "source": [
    "1-stats.norm.cdf(1)"
   ]
  },
  {
   "cell_type": "code",
   "execution_count": 17,
   "id": "a529f716",
   "metadata": {},
   "outputs": [
    {
     "data": {
      "text/plain": [
       "63.47999999999999"
      ]
     },
     "execution_count": 17,
     "metadata": {},
     "output_type": "execute_result"
    }
   ],
   "source": [
    "(15.87/100)*400    # 15.87 % of 400  "
   ]
  },
  {
   "cell_type": "code",
   "execution_count": 18,
   "id": "0408e7d9",
   "metadata": {},
   "outputs": [
    {
     "data": {
      "text/plain": [
       "0.0"
      ]
     },
     "execution_count": 18,
     "metadata": {},
     "output_type": "execute_result"
    }
   ],
   "source": [
    "(38-38)/6"
   ]
  },
  {
   "cell_type": "code",
   "execution_count": 19,
   "id": "0a7fdc68",
   "metadata": {},
   "outputs": [
    {
     "data": {
      "text/plain": [
       "0.5"
      ]
     },
     "execution_count": 19,
     "metadata": {},
     "output_type": "execute_result"
    }
   ],
   "source": [
    "stats.norm.cdf(0)"
   ]
  },
  {
   "cell_type": "code",
   "execution_count": 20,
   "id": "1ef86da6",
   "metadata": {},
   "outputs": [
    {
     "data": {
      "text/plain": [
       "34.129999999999995"
      ]
     },
     "execution_count": 20,
     "metadata": {},
     "output_type": "execute_result"
    }
   ],
   "source": [
    "84.13-50"
   ]
  },
  {
   "cell_type": "code",
   "execution_count": 21,
   "id": "976ff92d",
   "metadata": {},
   "outputs": [
    {
     "data": {
      "text/plain": [
       "136.52"
      ]
     },
     "execution_count": 21,
     "metadata": {},
     "output_type": "execute_result"
    }
   ],
   "source": [
    "(34.13/100)*400  # 34.13 % of 400  "
   ]
  },
  {
   "cell_type": "code",
   "execution_count": 22,
   "id": "482cff8d",
   "metadata": {},
   "outputs": [],
   "source": [
    "# 63 is greater than 136 therfore our statement 'A' is false"
   ]
  },
  {
   "cell_type": "code",
   "execution_count": 23,
   "id": "fa3d93fb",
   "metadata": {},
   "outputs": [
    {
     "data": {
      "text/plain": [
       "-1.3333333333333333"
      ]
     },
     "execution_count": 23,
     "metadata": {},
     "output_type": "execute_result"
    }
   ],
   "source": [
    "(30-38)/6"
   ]
  },
  {
   "cell_type": "code",
   "execution_count": 24,
   "id": "2623b7fa",
   "metadata": {},
   "outputs": [
    {
     "data": {
      "text/plain": [
       "0.09121668684984685"
      ]
     },
     "execution_count": 24,
     "metadata": {},
     "output_type": "execute_result"
    }
   ],
   "source": [
    "stats.norm.cdf(-1.3333)"
   ]
  },
  {
   "cell_type": "code",
   "execution_count": 25,
   "id": "0519f3b2",
   "metadata": {},
   "outputs": [
    {
     "data": {
      "text/plain": [
       "36.48"
      ]
     },
     "execution_count": 25,
     "metadata": {},
     "output_type": "execute_result"
    }
   ],
   "source": [
    "(9.12/100)*400  # 9.12 % of 400  "
   ]
  },
  {
   "cell_type": "code",
   "execution_count": 26,
   "id": "019e33ef",
   "metadata": {},
   "outputs": [],
   "source": [
    "# therefore statement 'B' is true"
   ]
  },
  {
   "cell_type": "markdown",
   "id": "7484bdcb",
   "metadata": {},
   "source": [
    "### Q.4"
   ]
  },
  {
   "cell_type": "code",
   "execution_count": 27,
   "id": "1c4b9387",
   "metadata": {},
   "outputs": [
    {
     "data": {
      "text/plain": [
       "(48.48341392902199, 151.516586070978)"
      ]
     },
     "execution_count": 27,
     "metadata": {},
     "output_type": "execute_result"
    }
   ],
   "source": [
    "stats.norm.interval(0.99, 100, 20)"
   ]
  },
  {
   "cell_type": "markdown",
   "id": "ef79e26c",
   "metadata": {},
   "source": [
    "### Q.5"
   ]
  },
  {
   "cell_type": "code",
   "execution_count": 28,
   "id": "3f13ac0e",
   "metadata": {},
   "outputs": [
    {
     "name": "stdout",
     "output_type": "stream",
     "text": [
      "Mean Profit is Rs 540 Million\n"
     ]
    }
   ],
   "source": [
    "# Mean profits from two different divisions of a company = Mean1 + Mean2\n",
    "Mean = 5+7\n",
    "print('Mean Profit is Rs', Mean*45,'Million')"
   ]
  },
  {
   "cell_type": "code",
   "execution_count": 29,
   "id": "cc72a894",
   "metadata": {},
   "outputs": [
    {
     "name": "stdout",
     "output_type": "stream",
     "text": [
      "Standard Deviation is Rs 225.0 Million\n"
     ]
    }
   ],
   "source": [
    "# Variance of profits from two different divisions of a company = SD^2 = SD1^2 + SD2^2\n",
    "SD = np.sqrt((9)+(16))\n",
    "print('Standard Deviation is Rs', SD*45, 'Million')"
   ]
  },
  {
   "cell_type": "code",
   "execution_count": 30,
   "id": "d3a254c8",
   "metadata": {},
   "outputs": [
    {
     "name": "stdout",
     "output_type": "stream",
     "text": [
      "Range is Rs (99.00810347848784, 980.9918965215122) in Millions\n"
     ]
    }
   ],
   "source": [
    "# A. Specify a Rupee range (centered on the mean) such that it contains 95% probability for the annual profit of the company.\n",
    "print('Range is Rs',(stats.norm.interval(0.95,540,225)),'in Millions')"
   ]
  },
  {
   "cell_type": "code",
   "execution_count": 31,
   "id": "a1298421",
   "metadata": {},
   "outputs": [
    {
     "name": "stdout",
     "output_type": "stream",
     "text": [
      "5th percentile of profit (in Million Rupees) is 170.0\n"
     ]
    }
   ],
   "source": [
    "# B. Specify the 5th percentile of profit (in Rupees) for the company\n",
    "# To compute 5th Percentile, we use the formula X=μ + Zσ; wherein from z table, 5 percentile = -1.645\n",
    "X= 540+(-1.645)*(225)\n",
    "print('5th percentile of profit (in Million Rupees) is',np.round(X,))"
   ]
  },
  {
   "cell_type": "code",
   "execution_count": 32,
   "id": "d5adc0c1",
   "metadata": {},
   "outputs": [],
   "source": [
    "# C. Which of the two divisions has a larger probability of making a loss in a given year?"
   ]
  },
  {
   "cell_type": "code",
   "execution_count": 33,
   "id": "c06c579f",
   "metadata": {},
   "outputs": [
    {
     "data": {
      "text/plain": [
       "0.0477903522728147"
      ]
     },
     "execution_count": 33,
     "metadata": {},
     "output_type": "execute_result"
    }
   ],
   "source": [
    "# Probability of Division 1 making a loss P(X<0)\n",
    "stats.norm.cdf(0,5,3)"
   ]
  },
  {
   "cell_type": "code",
   "execution_count": 34,
   "id": "ca5de226",
   "metadata": {},
   "outputs": [
    {
     "data": {
      "text/plain": [
       "0.040059156863817086"
      ]
     },
     "execution_count": 34,
     "metadata": {},
     "output_type": "execute_result"
    }
   ],
   "source": [
    "# Probability of Division 2 making a loss P(X<0)\n",
    "stats.norm.cdf(0,7,4)"
   ]
  },
  {
   "cell_type": "markdown",
   "id": "d0d3235b",
   "metadata": {},
   "source": [
    "# Assignment_2 file_3"
   ]
  },
  {
   "cell_type": "markdown",
   "id": "6a7e0fb6",
   "metadata": {},
   "source": [
    "### Q.5"
   ]
  },
  {
   "cell_type": "markdown",
   "id": "8ba1b7a7",
   "metadata": {},
   "source": [
    "### a. "
   ]
  },
  {
   "cell_type": "code",
   "execution_count": 35,
   "id": "857dc187",
   "metadata": {},
   "outputs": [
    {
     "data": {
      "text/plain": [
       "-0.820782681668124"
      ]
     },
     "execution_count": 35,
     "metadata": {},
     "output_type": "execute_result"
    }
   ],
   "source": [
    "# Apply One-Sample One-Tail z-test\n",
    "\n",
    "z_scores=(0.046-0.05)/(np.sqrt((0.05*(1-0.05))/2000))\n",
    "z_scores"
   ]
  },
  {
   "cell_type": "code",
   "execution_count": 36,
   "id": "5f8343b4",
   "metadata": {},
   "outputs": [
    {
     "data": {
      "text/plain": [
       "0.20588503245107104"
      ]
     },
     "execution_count": 36,
     "metadata": {},
     "output_type": "execute_result"
    }
   ],
   "source": [
    "# Find Probability assuming null hyposthesis, so as to compare with Type-1 error α = 0.05\n",
    "\n",
    "p_value=1-stats.norm.cdf(abs(z_scores))\n",
    "p_value"
   ]
  },
  {
   "cell_type": "markdown",
   "id": "44a77a9f",
   "metadata": {},
   "source": [
    "### b."
   ]
  },
  {
   "cell_type": "code",
   "execution_count": 37,
   "id": "401d974a",
   "metadata": {},
   "outputs": [
    {
     "data": {
      "text/plain": [
       "1.2815515655446004"
      ]
     },
     "execution_count": 37,
     "metadata": {},
     "output_type": "execute_result"
    }
   ],
   "source": [
    "stats.norm.ppf(q= 0.90)"
   ]
  },
  {
   "cell_type": "code",
   "execution_count": 38,
   "id": "83cf353b",
   "metadata": {},
   "outputs": [
    {
     "data": {
      "text/plain": [
       "(-1.959963984540054, 1.959963984540054)"
      ]
     },
     "execution_count": 38,
     "metadata": {},
     "output_type": "execute_result"
    }
   ],
   "source": [
    "stats.norm.interval(0.95)"
   ]
  },
  {
   "cell_type": "code",
   "execution_count": 40,
   "id": "72dc25eb",
   "metadata": {},
   "outputs": [
    {
     "data": {
      "text/plain": [
       "1.959963984540054"
      ]
     },
     "execution_count": 40,
     "metadata": {},
     "output_type": "execute_result"
    }
   ],
   "source": [
    "stats.norm.interval(0.95)[1]"
   ]
  },
  {
   "cell_type": "markdown",
   "id": "bf3dd6b5",
   "metadata": {},
   "source": [
    "# Assignment_2 file_4"
   ]
  },
  {
   "cell_type": "markdown",
   "id": "2a763e66",
   "metadata": {},
   "source": [
    "### Q.3"
   ]
  },
  {
   "cell_type": "code",
   "execution_count": 45,
   "id": "27aecdcc",
   "metadata": {},
   "outputs": [
    {
     "data": {
      "text/plain": [
       "-1.25"
      ]
     },
     "execution_count": 45,
     "metadata": {},
     "output_type": "execute_result"
    }
   ],
   "source": [
    "# find z-scores at x=45; z=(s_mean-P_mean)/(p_SD/sqrt(n))\n",
    "z=(45-50)/(40/100**0.5)\n",
    "z"
   ]
  },
  {
   "cell_type": "code",
   "execution_count": 46,
   "id": "67e8443a",
   "metadata": {},
   "outputs": [
    {
     "data": {
      "text/plain": [
       "1.25"
      ]
     },
     "execution_count": 46,
     "metadata": {},
     "output_type": "execute_result"
    }
   ],
   "source": [
    "# find z-scores at x=55; z=(s_mean-P_mean)/(p_SD/sqrt(n))\n",
    "z=(55-50)/(40/100**0.5)\n",
    "z"
   ]
  },
  {
   "cell_type": "code",
   "execution_count": 47,
   "id": "79d7f218",
   "metadata": {},
   "outputs": [
    {
     "data": {
      "text/plain": [
       "0.7887004526662893"
      ]
     },
     "execution_count": 47,
     "metadata": {},
     "output_type": "execute_result"
    }
   ],
   "source": [
    "# For No investigation P(45\n",
    "stats.norm.cdf(1.25)-stats.norm.cdf(-1.25)"
   ]
  },
  {
   "cell_type": "code",
   "execution_count": 48,
   "id": "493605c4",
   "metadata": {},
   "outputs": [
    {
     "data": {
      "text/plain": [
       "(45.00000495667348, 54.99999504332652)"
      ]
     },
     "execution_count": 48,
     "metadata": {},
     "output_type": "execute_result"
    }
   ],
   "source": [
    "stats.norm.interval(0.7887,loc=50,scale=40/(100**0.5))"
   ]
  },
  {
   "cell_type": "code",
   "execution_count": 49,
   "id": "0a7a57f7",
   "metadata": {},
   "outputs": [
    {
     "data": {
      "text/plain": [
       "0.21130000000000004"
      ]
     },
     "execution_count": 49,
     "metadata": {},
     "output_type": "execute_result"
    }
   ],
   "source": [
    "# For Investigation 1-P(45\n",
    "1-0.7887"
   ]
  },
  {
   "cell_type": "code",
   "execution_count": null,
   "id": "7da14b94",
   "metadata": {},
   "outputs": [],
   "source": []
  }
 ],
 "metadata": {
  "kernelspec": {
   "display_name": "Python 3 (ipykernel)",
   "language": "python",
   "name": "python3"
  },
  "language_info": {
   "codemirror_mode": {
    "name": "ipython",
    "version": 3
   },
   "file_extension": ".py",
   "mimetype": "text/x-python",
   "name": "python",
   "nbconvert_exporter": "python",
   "pygments_lexer": "ipython3",
   "version": "3.9.12"
  }
 },
 "nbformat": 4,
 "nbformat_minor": 5
}
